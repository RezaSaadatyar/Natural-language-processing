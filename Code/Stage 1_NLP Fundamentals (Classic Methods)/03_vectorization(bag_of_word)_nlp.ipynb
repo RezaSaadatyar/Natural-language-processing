{
  "cells": [
    {
      "cell_type": "markdown",
      "metadata": {},
      "source": [
        "<span style=\"font-size:16px; font-weight:bold\">Welcome to Natural language processing (NLP) in Python</span><br/>\n",
        "\n",
        "Presented by: Reza Saadatyar (2024-2025)<br/>\n",
        "E-mail: Reza.Saadatyar@outlook.com<br/>"
      ]
    },
    {
      "cell_type": "markdown",
      "metadata": {},
      "source": [
        "<span style=\"font-size: 16px;font-weight:bold\"> Bag Of Words (BOW):</span><br/>\n",
        "The `Bag of Words (BOW)` model is a simple and widely used technique in NLP for representing text data. In this approach, each document is represented as a vector that records the frequency of each unique word in the text, disregarding grammar and word order but keeping multiplicity. BOW is especially useful for tasks like `document classification`, where the presence or frequency of words serves as features for machine learning algorithms. This model is a type of `Vector Space Model (VSM)`, where text is transformed into numerical vectors for further analysis.\n",
        "\n",
        "**Bag of Words Steps:**<br/>\n",
        "▪ `Lowercase:` Standardize all text by converting to lowercase.<br/>\n",
        "▪ `Tokenization:` Split the text into individual words (tokens).<br/>\n",
        "▪ `Vocabulary Creation:` Identify all unique words to form the vocabulary.<br/>\n",
        "▪ `Sorting:` Optionally, sort the vocabulary alphabetically (A-Z) for consistency.<br/>\n",
        "▪ `Vectorization:` Represent each document as a vector indicating the frequency (or presence) of each vocabulary word.<br/>"
      ]
    },
    {
      "cell_type": "markdown",
      "metadata": {},
      "source": [
        "<span style=\"dont-size:16.5px; color:rgb(245, 5, 5); font-weight:bold;\">Importing libraries</span>"
      ]
    },
    {
      "cell_type": "code",
      "execution_count": 68,
      "metadata": {},
      "outputs": [],
      "source": [
        "from tensorflow.keras.preprocessing.text import Tokenizer"
      ]
    },
    {
      "cell_type": "code",
      "execution_count": 74,
      "metadata": {},
      "outputs": [
        {
          "name": "stdout",
          "output_type": "stream",
          "text": [
            "Vocabulary (sorted): ['a', 'are', 'as', 'bag', 'be', 'can', 'data', 'fascinating', 'features', 'important', 'in', 'is', 'language', 'model', 'natural', 'nlp', 'of', 'processing', 'represented', 'simple', 'text', 'vectors', 'words']\n",
            "Bag of Words matrix:\n",
            " [[0. 1. 0. 1. 1. 1. 1. 0. 0. 0. 0. 0. 0. 0. 0. 0. 0. 0. 0. 0. 0. 0. 0. 0.]\n",
            " [0. 1. 1. 0. 0. 0. 0. 1. 1. 1. 1. 1. 0. 0. 0. 0. 0. 0. 0. 0. 0. 0. 0. 0.]\n",
            " [0. 0. 0. 0. 0. 0. 0. 0. 0. 0. 0. 0. 1. 1. 1. 1. 1. 1. 1. 0. 0. 0. 0. 0.]\n",
            " [0. 0. 1. 0. 0. 0. 0. 0. 0. 0. 0. 0. 0. 0. 0. 0. 0. 0. 0. 1. 1. 1. 1. 1.]]\n"
          ]
        }
      ],
      "source": [
        "txt = [\n",
        "    \"Natural language processing is fascinating\",\n",
        "    \"Bag of Words is a simple model\",\n",
        "    \"Text data can be represented as vectors\",\n",
        "    \"Words are important features in NLP\"\n",
        "]\n",
        "\n",
        "# Step 1 & 2: Create and fit the Tokenizer\n",
        "tok = Tokenizer()\n",
        "tok.fit_on_texts(txt)\n",
        "\n",
        "# Step 3 & 4: Print the sorted vocabulary\n",
        "sorted_vocab = sorted(tok.word_index.keys())\n",
        "print(f'Vocabulary (sorted): {sorted_vocab}')\n",
        "\n",
        "# Step 5: Transform to Bag of Words matrix\n",
        "vectors = tok.texts_to_matrix(txt, mode='count')\n",
        "print(\"Bag of Words matrix:\\n\", vectors)"
      ]
    }
  ],
  "metadata": {
    "colab": {
      "collapsed_sections": [],
      "name": "Text-Introduction.ipynb",
      "provenance": []
    },
    "kernelspec": {
      "display_name": "Python 3",
      "name": "python3"
    },
    "language_info": {
      "codemirror_mode": {
        "name": "ipython",
        "version": 3
      },
      "file_extension": ".py",
      "mimetype": "text/x-python",
      "name": "python",
      "nbconvert_exporter": "python",
      "pygments_lexer": "ipython3",
      "version": "3.12.2"
    }
  },
  "nbformat": 4,
  "nbformat_minor": 0
}
